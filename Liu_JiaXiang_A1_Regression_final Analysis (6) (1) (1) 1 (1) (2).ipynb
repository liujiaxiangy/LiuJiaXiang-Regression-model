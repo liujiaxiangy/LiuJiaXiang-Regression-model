{
 "cells": [
  {
   "cell_type": "code",
   "execution_count": 1,
   "id": "e01c7c54",
   "metadata": {},
   "outputs": [],
   "source": [
    "# importing libraries\n",
    "import pandas as pd             # data science essentials\n",
    "import matplotlib.pyplot as plt # essential graphical output\n",
    "import seaborn as sns           # enhanced graphical output\n",
    "import statsmodels.formula.api as smf # regression modeling\n",
    "from sklearn.model_selection import train_test_split # train/test split\n",
    "from sklearn.linear_model import LinearRegression\n",
    "\n",
    "# new libraries\n",
    "from sklearn.neighbors import KNeighborsRegressor # KNN for Regression\n",
    "from sklearn.preprocessing import StandardScaler # standard scaler\n",
    "\n",
    "# setting pandas print options\n",
    "pd.set_option('display.max_rows', 500)\n",
    "pd.set_option('display.max_columns', 500)\n",
    "pd.set_option('display.width', 1000)\n",
    "\n",
    "# specifying file names\n",
    "dataset_file     = './birthweight_low.xlsx'\n",
    "performance_file = './__model_results/linear_model_performance.xlsx'\n",
    "prediction_file  = './__model_results/linear_model_predictions.xlsx'\n",
    "\n",
    "\n",
    "# reading the files into Python\n",
    "birthweight    = pd.read_excel(dataset_file)\n",
    "performance = pd.read_excel(performance_file)\n",
    "predictions = pd.read_excel(prediction_file)"
   ]
  },
  {
   "cell_type": "code",
   "execution_count": 31,
   "id": "39f65bd6",
   "metadata": {},
   "outputs": [
    {
     "name": "stdout",
     "output_type": "stream",
     "text": [
      "<class 'pandas.core.frame.DataFrame'>\n",
      "RangeIndex: 196 entries, 0 to 195\n",
      "Data columns (total 18 columns):\n",
      " #   Column  Non-Null Count  Dtype  \n",
      "---  ------  --------------  -----  \n",
      " 0   mage    196 non-null    int64  \n",
      " 1   meduc   193 non-null    float64\n",
      " 2   monpre  196 non-null    int64  \n",
      " 3   npvis   193 non-null    float64\n",
      " 4   fage    196 non-null    int64  \n",
      " 5   feduc   189 non-null    float64\n",
      " 6   omaps   196 non-null    int64  \n",
      " 7   fmaps   196 non-null    int64  \n",
      " 8   cigs    196 non-null    int64  \n",
      " 9   drink   196 non-null    int64  \n",
      " 10  male    196 non-null    int64  \n",
      " 11  mwhte   196 non-null    int64  \n",
      " 12  mblck   196 non-null    int64  \n",
      " 13  moth    196 non-null    int64  \n",
      " 14  fwhte   196 non-null    int64  \n",
      " 15  fblck   196 non-null    int64  \n",
      " 16  foth    196 non-null    int64  \n",
      " 17  bwght   196 non-null    int64  \n",
      "dtypes: float64(3), int64(15)\n",
      "memory usage: 27.7 KB\n"
     ]
    }
   ],
   "source": [
    "birthweight.info()"
   ]
  },
  {
   "cell_type": "code",
   "execution_count": 32,
   "id": "91eb6e73",
   "metadata": {},
   "outputs": [
    {
     "data": {
      "text/html": [
       "<div>\n",
       "<style scoped>\n",
       "    .dataframe tbody tr th:only-of-type {\n",
       "        vertical-align: middle;\n",
       "    }\n",
       "\n",
       "    .dataframe tbody tr th {\n",
       "        vertical-align: top;\n",
       "    }\n",
       "\n",
       "    .dataframe thead th {\n",
       "        text-align: right;\n",
       "    }\n",
       "</style>\n",
       "<table border=\"1\" class=\"dataframe\">\n",
       "  <thead>\n",
       "    <tr style=\"text-align: right;\">\n",
       "      <th></th>\n",
       "      <th>mage</th>\n",
       "      <th>meduc</th>\n",
       "      <th>monpre</th>\n",
       "      <th>npvis</th>\n",
       "      <th>fage</th>\n",
       "      <th>feduc</th>\n",
       "      <th>omaps</th>\n",
       "      <th>fmaps</th>\n",
       "      <th>cigs</th>\n",
       "      <th>drink</th>\n",
       "      <th>male</th>\n",
       "      <th>mwhte</th>\n",
       "      <th>mblck</th>\n",
       "      <th>moth</th>\n",
       "      <th>fwhte</th>\n",
       "      <th>fblck</th>\n",
       "      <th>foth</th>\n",
       "      <th>bwght</th>\n",
       "    </tr>\n",
       "  </thead>\n",
       "  <tbody>\n",
       "    <tr>\n",
       "      <th>count</th>\n",
       "      <td>196.000000</td>\n",
       "      <td>193.000000</td>\n",
       "      <td>196.000000</td>\n",
       "      <td>193.000000</td>\n",
       "      <td>196.000000</td>\n",
       "      <td>189.000000</td>\n",
       "      <td>196.000000</td>\n",
       "      <td>196.000000</td>\n",
       "      <td>196.000000</td>\n",
       "      <td>196.000000</td>\n",
       "      <td>196.000000</td>\n",
       "      <td>196.000000</td>\n",
       "      <td>196.000000</td>\n",
       "      <td>196.000000</td>\n",
       "      <td>196.000000</td>\n",
       "      <td>196.000000</td>\n",
       "      <td>196.000000</td>\n",
       "      <td>196.000000</td>\n",
       "    </tr>\n",
       "    <tr>\n",
       "      <th>mean</th>\n",
       "      <td>40.153061</td>\n",
       "      <td>13.911917</td>\n",
       "      <td>2.341837</td>\n",
       "      <td>11.601036</td>\n",
       "      <td>39.290816</td>\n",
       "      <td>13.846561</td>\n",
       "      <td>8.193878</td>\n",
       "      <td>8.964286</td>\n",
       "      <td>10.928571</td>\n",
       "      <td>5.397959</td>\n",
       "      <td>0.551020</td>\n",
       "      <td>0.270408</td>\n",
       "      <td>0.382653</td>\n",
       "      <td>0.346939</td>\n",
       "      <td>0.346939</td>\n",
       "      <td>0.341837</td>\n",
       "      <td>0.311224</td>\n",
       "      <td>3334.086735</td>\n",
       "    </tr>\n",
       "    <tr>\n",
       "      <th>std</th>\n",
       "      <td>10.250055</td>\n",
       "      <td>2.055864</td>\n",
       "      <td>1.355136</td>\n",
       "      <td>4.267293</td>\n",
       "      <td>8.982725</td>\n",
       "      <td>2.634217</td>\n",
       "      <td>1.576482</td>\n",
       "      <td>0.651428</td>\n",
       "      <td>6.101282</td>\n",
       "      <td>3.001674</td>\n",
       "      <td>0.498664</td>\n",
       "      <td>0.445308</td>\n",
       "      <td>0.487279</td>\n",
       "      <td>0.477215</td>\n",
       "      <td>0.477215</td>\n",
       "      <td>0.475540</td>\n",
       "      <td>0.464180</td>\n",
       "      <td>646.700904</td>\n",
       "    </tr>\n",
       "    <tr>\n",
       "      <th>min</th>\n",
       "      <td>23.000000</td>\n",
       "      <td>8.000000</td>\n",
       "      <td>1.000000</td>\n",
       "      <td>2.000000</td>\n",
       "      <td>23.000000</td>\n",
       "      <td>1.000000</td>\n",
       "      <td>2.000000</td>\n",
       "      <td>5.000000</td>\n",
       "      <td>0.000000</td>\n",
       "      <td>0.000000</td>\n",
       "      <td>0.000000</td>\n",
       "      <td>0.000000</td>\n",
       "      <td>0.000000</td>\n",
       "      <td>0.000000</td>\n",
       "      <td>0.000000</td>\n",
       "      <td>0.000000</td>\n",
       "      <td>0.000000</td>\n",
       "      <td>697.000000</td>\n",
       "    </tr>\n",
       "    <tr>\n",
       "      <th>25%</th>\n",
       "      <td>33.000000</td>\n",
       "      <td>12.000000</td>\n",
       "      <td>2.000000</td>\n",
       "      <td>10.000000</td>\n",
       "      <td>34.750000</td>\n",
       "      <td>12.000000</td>\n",
       "      <td>8.000000</td>\n",
       "      <td>9.000000</td>\n",
       "      <td>6.000000</td>\n",
       "      <td>4.000000</td>\n",
       "      <td>0.000000</td>\n",
       "      <td>0.000000</td>\n",
       "      <td>0.000000</td>\n",
       "      <td>0.000000</td>\n",
       "      <td>0.000000</td>\n",
       "      <td>0.000000</td>\n",
       "      <td>0.000000</td>\n",
       "      <td>2916.250000</td>\n",
       "    </tr>\n",
       "    <tr>\n",
       "      <th>50%</th>\n",
       "      <td>39.000000</td>\n",
       "      <td>14.000000</td>\n",
       "      <td>2.000000</td>\n",
       "      <td>12.000000</td>\n",
       "      <td>38.000000</td>\n",
       "      <td>14.000000</td>\n",
       "      <td>9.000000</td>\n",
       "      <td>9.000000</td>\n",
       "      <td>11.000000</td>\n",
       "      <td>5.000000</td>\n",
       "      <td>1.000000</td>\n",
       "      <td>0.000000</td>\n",
       "      <td>0.000000</td>\n",
       "      <td>0.000000</td>\n",
       "      <td>0.000000</td>\n",
       "      <td>0.000000</td>\n",
       "      <td>0.000000</td>\n",
       "      <td>3452.000000</td>\n",
       "    </tr>\n",
       "    <tr>\n",
       "      <th>75%</th>\n",
       "      <td>46.000000</td>\n",
       "      <td>16.000000</td>\n",
       "      <td>3.000000</td>\n",
       "      <td>12.000000</td>\n",
       "      <td>43.000000</td>\n",
       "      <td>16.000000</td>\n",
       "      <td>9.000000</td>\n",
       "      <td>9.000000</td>\n",
       "      <td>15.250000</td>\n",
       "      <td>7.250000</td>\n",
       "      <td>1.000000</td>\n",
       "      <td>1.000000</td>\n",
       "      <td>1.000000</td>\n",
       "      <td>1.000000</td>\n",
       "      <td>1.000000</td>\n",
       "      <td>1.000000</td>\n",
       "      <td>1.000000</td>\n",
       "      <td>3759.500000</td>\n",
       "    </tr>\n",
       "    <tr>\n",
       "      <th>max</th>\n",
       "      <td>71.000000</td>\n",
       "      <td>17.000000</td>\n",
       "      <td>8.000000</td>\n",
       "      <td>35.000000</td>\n",
       "      <td>73.000000</td>\n",
       "      <td>17.000000</td>\n",
       "      <td>10.000000</td>\n",
       "      <td>10.000000</td>\n",
       "      <td>25.000000</td>\n",
       "      <td>14.000000</td>\n",
       "      <td>1.000000</td>\n",
       "      <td>1.000000</td>\n",
       "      <td>1.000000</td>\n",
       "      <td>1.000000</td>\n",
       "      <td>1.000000</td>\n",
       "      <td>1.000000</td>\n",
       "      <td>1.000000</td>\n",
       "      <td>4933.000000</td>\n",
       "    </tr>\n",
       "  </tbody>\n",
       "</table>\n",
       "</div>"
      ],
      "text/plain": [
       "             mage       meduc      monpre       npvis        fage       feduc       omaps       fmaps        cigs       drink        male       mwhte       mblck        moth       fwhte       fblck        foth        bwght\n",
       "count  196.000000  193.000000  196.000000  193.000000  196.000000  189.000000  196.000000  196.000000  196.000000  196.000000  196.000000  196.000000  196.000000  196.000000  196.000000  196.000000  196.000000   196.000000\n",
       "mean    40.153061   13.911917    2.341837   11.601036   39.290816   13.846561    8.193878    8.964286   10.928571    5.397959    0.551020    0.270408    0.382653    0.346939    0.346939    0.341837    0.311224  3334.086735\n",
       "std     10.250055    2.055864    1.355136    4.267293    8.982725    2.634217    1.576482    0.651428    6.101282    3.001674    0.498664    0.445308    0.487279    0.477215    0.477215    0.475540    0.464180   646.700904\n",
       "min     23.000000    8.000000    1.000000    2.000000   23.000000    1.000000    2.000000    5.000000    0.000000    0.000000    0.000000    0.000000    0.000000    0.000000    0.000000    0.000000    0.000000   697.000000\n",
       "25%     33.000000   12.000000    2.000000   10.000000   34.750000   12.000000    8.000000    9.000000    6.000000    4.000000    0.000000    0.000000    0.000000    0.000000    0.000000    0.000000    0.000000  2916.250000\n",
       "50%     39.000000   14.000000    2.000000   12.000000   38.000000   14.000000    9.000000    9.000000   11.000000    5.000000    1.000000    0.000000    0.000000    0.000000    0.000000    0.000000    0.000000  3452.000000\n",
       "75%     46.000000   16.000000    3.000000   12.000000   43.000000   16.000000    9.000000    9.000000   15.250000    7.250000    1.000000    1.000000    1.000000    1.000000    1.000000    1.000000    1.000000  3759.500000\n",
       "max     71.000000   17.000000    8.000000   35.000000   73.000000   17.000000   10.000000   10.000000   25.000000   14.000000    1.000000    1.000000    1.000000    1.000000    1.000000    1.000000    1.000000  4933.000000"
      ]
     },
     "execution_count": 32,
     "metadata": {},
     "output_type": "execute_result"
    }
   ],
   "source": [
    "birthweight.describe()"
   ]
  },
  {
   "cell_type": "code",
   "execution_count": 33,
   "id": "6a0c8b94",
   "metadata": {},
   "outputs": [
    {
     "data": {
      "text/plain": [
       "mage      0\n",
       "meduc     3\n",
       "monpre    0\n",
       "npvis     3\n",
       "fage      0\n",
       "feduc     7\n",
       "omaps     0\n",
       "fmaps     0\n",
       "cigs      0\n",
       "drink     0\n",
       "male      0\n",
       "mwhte     0\n",
       "mblck     0\n",
       "moth      0\n",
       "fwhte     0\n",
       "fblck     0\n",
       "foth      0\n",
       "bwght     0\n",
       "dtype: int64"
      ]
     },
     "execution_count": 33,
     "metadata": {},
     "output_type": "execute_result"
    }
   ],
   "source": [
    "\n",
    "birthweight.isnull().sum()"
   ]
  },
  {
   "cell_type": "code",
   "execution_count": 34,
   "id": "d00fee44",
   "metadata": {},
   "outputs": [],
   "source": [
    "# imputing everything else with the median\n",
    "\n",
    "# Total_Bsmt_SF\n",
    "fill = 0\n",
    "birthweight['meduc'] = birthweight['meduc'].fillna(fill)\n",
    "\n",
    "\n",
    "# Garage_Cars\n",
    "fill = 0\n",
    "birthweight['npvis'] = birthweight['npvis'].fillna(fill)\n",
    "\n",
    "\n",
    "# Garage_Area\n",
    "fill = 0\n",
    "birthweight['feduc'] = birthweight['feduc'].fillna(fill)\n",
    "\n",
    "\n"
   ]
  },
  {
   "cell_type": "code",
   "execution_count": 35,
   "id": "7d41151b",
   "metadata": {},
   "outputs": [
    {
     "data": {
      "text/plain": [
       "mage      0\n",
       "meduc     0\n",
       "monpre    0\n",
       "npvis     0\n",
       "fage      0\n",
       "feduc     0\n",
       "omaps     0\n",
       "fmaps     0\n",
       "cigs      0\n",
       "drink     0\n",
       "male      0\n",
       "mwhte     0\n",
       "mblck     0\n",
       "moth      0\n",
       "fwhte     0\n",
       "fblck     0\n",
       "foth      0\n",
       "bwght     0\n",
       "dtype: int64"
      ]
     },
     "execution_count": 35,
     "metadata": {},
     "output_type": "execute_result"
    }
   ],
   "source": [
    "#checking missing values\n",
    "birthweight.isnull().sum()"
   ]
  },
  {
   "cell_type": "code",
   "execution_count": 36,
   "id": "676f6de4",
   "metadata": {},
   "outputs": [
    {
     "name": "stdout",
     "output_type": "stream",
     "text": [
      "                            OLS Regression Results                            \n",
      "==============================================================================\n",
      "Dep. Variable:                   mage   R-squared:                       0.215\n",
      "Model:                            OLS   Adj. R-squared:                  0.211\n",
      "Method:                 Least Squares   F-statistic:                     53.17\n",
      "Date:                Fri, 03 Dec 2021   Prob (F-statistic):           7.57e-12\n",
      "Time:                        21:30:31   Log-Likelihood:                -710.02\n",
      "No. Observations:                 196   AIC:                             1424.\n",
      "Df Residuals:                     194   BIC:                             1431.\n",
      "Df Model:                           1                                         \n",
      "Covariance Type:            nonrobust                                         \n",
      "==============================================================================\n",
      "                 coef    std err          t      P>|t|      [0.025      0.975]\n",
      "------------------------------------------------------------------------------\n",
      "Intercept     64.6629      3.424     18.888      0.000      57.911      71.415\n",
      "bwght         -0.0074      0.001     -7.292      0.000      -0.009      -0.005\n",
      "==============================================================================\n",
      "Omnibus:                        2.111   Durbin-Watson:                   1.175\n",
      "Prob(Omnibus):                  0.348   Jarque-Bera (JB):                2.165\n",
      "Skew:                           0.243   Prob(JB):                        0.339\n",
      "Kurtosis:                       2.831   Cond. No.                     1.79e+04\n",
      "==============================================================================\n",
      "\n",
      "Notes:\n",
      "[1] Standard Errors assume that the covariance matrix of the errors is correctly specified.\n",
      "[2] The condition number is large, 1.79e+04. This might indicate that there are\n",
      "strong multicollinearity or other numerical problems.\n"
     ]
    }
   ],
   "source": [
    "# building a base model\n",
    "\n",
    "# INSTANTIATING a model type\n",
    "lm_practice = smf.ols(formula = \"\"\"  mage ~ bwght\"\"\",\n",
    "                        data = birthweight)\n",
    "\n",
    "\n",
    "# telling Python to FIT the data to the blueprint\n",
    "results = lm_practice.fit()\n",
    "\n",
    "\n",
    "# printing a summary of the results\n",
    "print(results.summary())"
   ]
  },
  {
   "cell_type": "code",
   "execution_count": 37,
   "id": "3c08c17d",
   "metadata": {},
   "outputs": [
    {
     "data": {
      "image/png": "[encoded data removed]",
      "text/plain": [
       "<Figure size 432x288 with 1 Axes>"
      ]
     },
     "metadata": {
      "needs_background": "light"
     },
     "output_type": "display_data"
    }
   ],
   "source": [
    "# developing a histogram using HISTPLOT\n",
    "sns.histplot(data   = birthweight,\n",
    "             x      = 'mage',\n",
    "             kde    = True)\n",
    "\n",
    "\n",
    "# title and axis labels\n",
    "plt.title(label   = \"Original Distribution of birthweight mage\")\n",
    "plt.xlabel(xlabel = \"mage\") # avoiding using dataset labels\n",
    "plt.ylabel(ylabel = \"Count\")\n",
    "\n",
    "# displaying the histogram\n",
    "plt.show()\n"
   ]
  },
  {
   "cell_type": "code",
   "execution_count": 38,
   "id": "38616b5f",
   "metadata": {},
   "outputs": [
    {
     "data": {
      "image/png": "[encoded data removed]",
      "text/plain": [
       "<Figure size 432x288 with 1 Axes>"
      ]
     },
     "metadata": {
      "needs_background": "light"
     },
     "output_type": "display_data"
    }
   ],
   "source": [
    "# developing a histogram using HISTPLOT\n",
    "sns.histplot(data   = birthweight,\n",
    "             x      = 'bwght',\n",
    "             kde    = True)\n",
    "\n",
    "\n",
    "# title and axis labels\n",
    "plt.title(label   = \"Original Distribution of birthweight bwght\")\n",
    "plt.xlabel(xlabel = \"bwght\") # avoiding using dataset labels\n",
    "plt.ylabel(ylabel = \"Count\")\n",
    "\n",
    "# displaying the histogram\n",
    "plt.show()"
   ]
  },
  {
   "cell_type": "code",
   "execution_count": 39,
   "id": "8e877da0",
   "metadata": {},
   "outputs": [],
   "source": [
    "# log transforming Sale_Price and saving it to the dataset\n",
    "birthweight['log_mage'] = np.log(birthweight['mage'])\n",
    "birthweight['log_bwght'] = np.log(birthweight['bwght'])"
   ]
  },
  {
   "cell_type": "code",
   "execution_count": 40,
   "id": "1649b93d",
   "metadata": {},
   "outputs": [
    {
     "data": {
      "image/png": "[encoded data removed]",
      "text/plain": [
       "<Figure size 432x288 with 1 Axes>"
      ]
     },
     "metadata": {
      "needs_background": "light"
     },
     "output_type": "display_data"
    },
    {
     "data": {
      "image/png": "[encoded data removed]",
      "text/plain": [
       "<Figure size 432x288 with 1 Axes>"
      ]
     },
     "metadata": {
      "needs_background": "light"
     },
     "output_type": "display_data"
    }
   ],
   "source": [
    "# developing a histogram using HISTPLOT\n",
    "sns.histplot(data   = birthweight,\n",
    "             x      = 'log_bwght',\n",
    "             kde    = True)\n",
    "\n",
    "\n",
    "# title and axis labels\n",
    "plt.title(label   = \"Logarithmic Distribution of birthweight bwght\")\n",
    "plt.xlabel(xlabel = \"bwght\") # avoiding using dataset labels\n",
    "plt.ylabel(ylabel = \"Count\")\n",
    "\n",
    "# displaying the histogram\n",
    "plt.show()\n",
    "# developing a histogram using HISTPLOT\n",
    "sns.histplot(data   = birthweight,\n",
    "             x      = 'log_mage',\n",
    "             kde    = True)\n",
    "\n",
    "\n",
    "# title and axis labels\n",
    "plt.title(label   = \"Logarithmic Distribution of birthweight mage\")\n",
    "plt.xlabel(xlabel = \"mage\") # avoiding using dataset labels\n",
    "plt.ylabel(ylabel = \"Count\")\n",
    "\n",
    "# displaying the histogram\n",
    "plt.show()"
   ]
  },
  {
   "cell_type": "code",
   "execution_count": 41,
   "id": "47b3fc79",
   "metadata": {},
   "outputs": [
    {
     "name": "stdout",
     "output_type": "stream",
     "text": [
      "\n",
      "Training Data\n",
      "-------------\n",
      "X-side: (147, 16)\n",
      "y-side: 147\n",
      "\n",
      "\n",
      "Testing Data\n",
      "------------\n",
      "X-side: (49, 16)\n",
      "y-side: 49\n",
      "\n"
     ]
    }
   ],
   "source": [
    "# preparing explanatory variable data\n",
    "birthweight_data   =  birthweight.drop(['mage',\n",
    "                                   'log_mage',\n",
    "                                   'bwght',\n",
    "                                   'log_bwght',],\n",
    "                                axis = 1)\n",
    "\n",
    "\n",
    "# preparing response variable data\n",
    "birthweight_target = birthweight.loc[ : , 'bwght']\n",
    "log_birthweight_target = birthweight.loc[ : , 'log_bwght'] # ready for use later\n",
    "\n",
    "\n",
    "# preparing training and testing sets (all letters are lowercase)\n",
    "x_train, x_test, y_train, y_test = train_test_split(\n",
    "            birthweight_data,\n",
    "            birthweight_target,\n",
    "            test_size = 0.25,\n",
    "            random_state = 219)\n",
    "\n",
    "\n",
    "# checking the shapes of the datasets\n",
    "print(f\"\"\"\n",
    "Training Data\n",
    "-------------\n",
    "X-side: {x_train.shape}\n",
    "y-side: {y_train.shape[0]}\n",
    "\n",
    "\n",
    "Testing Data\n",
    "------------\n",
    "X-side: {x_test.shape}\n",
    "y-side: {y_test.shape[0]}\n",
    "\"\"\")"
   ]
  },
  {
   "cell_type": "code",
   "execution_count": 42,
   "id": "5ec8ed8d",
   "metadata": {},
   "outputs": [
    {
     "name": "stdout",
     "output_type": "stream",
     "text": [
      "meduc +\n",
      "monpre +\n",
      "npvis +\n",
      "fage +\n",
      "feduc +\n",
      "omaps +\n",
      "fmaps +\n",
      "cigs +\n",
      "drink +\n",
      "male +\n",
      "mwhte +\n",
      "mblck +\n",
      "moth +\n",
      "fwhte +\n",
      "fblck +\n",
      "foth +\n"
     ]
    }
   ],
   "source": [
    "# declaring set of x-variables\n",
    "x_variables = ['meduc','monpre','npvis','fage','feduc','omaps','fmaps',\n",
    "               'cigs','drink','male','mwhte','mblck','moth','fwhte','fblck','foth']\n",
    "\n",
    "\n",
    "# looping to make x-variables suitable for statsmodels\n",
    "for val in x_variables:\n",
    "    print(f\"{val} +\")"
   ]
  },
  {
   "cell_type": "code",
   "execution_count": 43,
   "id": "b4f301d3",
   "metadata": {},
   "outputs": [
    {
     "name": "stdout",
     "output_type": "stream",
     "text": [
      "                            OLS Regression Results                            \n",
      "==============================================================================\n",
      "Dep. Variable:                  meduc   R-squared:                       1.000\n",
      "Model:                            OLS   Adj. R-squared:                  1.000\n",
      "Method:                 Least Squares   F-statistic:                 1.916e+29\n",
      "Date:                Fri, 03 Dec 2021   Prob (F-statistic):               0.00\n",
      "Time:                        21:30:37   Log-Likelihood:                 4434.4\n",
      "No. Observations:                 147   AIC:                            -8837.\n",
      "Df Residuals:                     131   BIC:                            -8789.\n",
      "Df Model:                          15                                         \n",
      "Covariance Type:            nonrobust                                         \n",
      "==============================================================================\n",
      "                 coef    std err          t      P>|t|      [0.025      0.975]\n",
      "------------------------------------------------------------------------------\n",
      "Intercept  -3.553e-15      2e-14     -0.178      0.859   -4.31e-14     3.6e-14\n",
      "bwght       1.637e-17   4.68e-18      3.502      0.001    7.12e-18    2.56e-17\n",
      "meduc          1.0000      8e-16   1.25e+15      0.000       1.000       1.000\n",
      "monpre     -6.661e-16   1.45e-15     -0.461      0.646   -3.53e-15     2.2e-15\n",
      "npvis      -6.245e-17   4.04e-16     -0.155      0.877   -8.61e-16    7.36e-16\n",
      "fage       -1.055e-15   2.07e-16     -5.103      0.000   -1.46e-15   -6.46e-16\n",
      "feduc      -7.216e-16   7.21e-16     -1.001      0.319   -2.15e-15    7.05e-16\n",
      "omaps       3.331e-16   1.39e-15      0.240      0.811   -2.42e-15    3.08e-15\n",
      "fmaps       5.274e-16   3.32e-15      0.159      0.874   -6.03e-15    7.09e-15\n",
      "cigs       -3.417e-16   3.48e-16     -0.982      0.328   -1.03e-15    3.47e-16\n",
      "drink      -8.327e-17   8.43e-16     -0.099      0.921   -1.75e-15    1.58e-15\n",
      "male        -1.11e-15   3.54e-15     -0.313      0.755   -8.12e-15     5.9e-15\n",
      "mwhte      -4.441e-16    9.1e-15     -0.049      0.961   -1.84e-14    1.76e-14\n",
      "mblck        1.11e-16   9.06e-15      0.012      0.990   -1.78e-14     1.8e-14\n",
      "moth       -1.332e-15   8.27e-15     -0.161      0.872   -1.77e-14     1.5e-14\n",
      "fwhte      -3.775e-15    8.1e-15     -0.466      0.642   -1.98e-14    1.23e-14\n",
      "fblck       -1.11e-15   9.45e-15     -0.118      0.907   -1.98e-14    1.76e-14\n",
      "foth       -1.443e-15   8.52e-15     -0.169      0.866   -1.83e-14    1.54e-14\n",
      "==============================================================================\n",
      "Omnibus:                       21.615   Durbin-Watson:                   1.713\n",
      "Prob(Omnibus):                  0.000   Jarque-Bera (JB):               26.151\n",
      "Skew:                           0.939   Prob(JB):                     2.10e-06\n",
      "Kurtosis:                       3.860   Cond. No.                     3.99e+19\n",
      "==============================================================================\n",
      "\n",
      "Notes:\n",
      "[1] Standard Errors assume that the covariance matrix of the errors is correctly specified.\n",
      "[2] The smallest eigenvalue is 1.08e-30. This might indicate that there are\n",
      "strong multicollinearity problems or that the design matrix is singular.\n"
     ]
    }
   ],
   "source": [
    "# merging X_train and y_train so that they can be used in statsmodels\n",
    "birthweight_train = pd.concat([x_train, y_train], axis = 1)\n",
    "\n",
    "\n",
    "# Step 1: build a model\n",
    "lm_best = smf.ols(formula =  \"\"\"meduc ~ bwght +\n",
    "                                            meduc +\n",
    "                                            monpre +\n",
    "                                            npvis +\n",
    "                                            fage +\n",
    "                                            feduc +\n",
    "                                            omaps +\n",
    "                                            fmaps +\n",
    "                                            cigs +\n",
    "                                            drink +\n",
    "                                            male +\n",
    "                                            mwhte +\n",
    "                                            mblck +\n",
    "                                            moth +\n",
    "                                            fwhte +\n",
    "                                            fblck +\n",
    "                                            foth\"\"\",\n",
    "                                             data = birthweight_train)\n",
    "\n",
    "\n",
    "# Step 2: fit the model based on the data\n",
    "results = lm_best.fit()\n",
    "\n",
    "\n",
    "\n",
    "# Step 3: analyze the summary output\n",
    "print(results.summary())"
   ]
  },
  {
   "cell_type": "code",
   "execution_count": 44,
   "id": "f33c6884",
   "metadata": {},
   "outputs": [],
   "source": [
    "# applying model in scikit-learn\n",
    "\n",
    "# Preparing a DataFrame based the the analysis above\n",
    "ols_data   = birthweight.loc[ : , x_variables]\n",
    "\n",
    "\n",
    "# Preparing the target variable\n",
    "birthweight_target = birthweight.loc[ : , 'bwght']\n",
    "\n",
    "\n",
    "###############################################\n",
    "## setting up more than one train-test split ##\n",
    "###############################################\n",
    "# FULL X-dataset (normal Y)\n",
    "x_train_FULL, x_test_FULL, y_train_FULL, y_test_FULL = train_test_split(\n",
    "            birthweight_data,     # x-variables\n",
    "            birthweight_target,   # y-variable\n",
    "            test_size = 0.25,\n",
    "            random_state = 219)\n",
    "\n",
    "\n",
    "# OLS p-value x-dataset (normal Y)\n",
    "x_train_OLS, x_test_OLS, y_train_OLS, y_test_OLS = train_test_split(\n",
    "            ols_data,         # x-variables\n",
    "            birthweight_target,   # y-variable\n",
    "            test_size = 0.25,\n",
    "            random_state = 219)\n"
   ]
  },
  {
   "cell_type": "code",
   "execution_count": 15,
   "id": "cf869e36",
   "metadata": {},
   "outputs": [
    {
     "data": {
      "text/plain": [
       "m_meduc    3\n",
       "m_npvis    3\n",
       "m_feduc    7\n",
       "dtype: int64"
      ]
     },
     "execution_count": 15,
     "metadata": {},
     "output_type": "execute_result"
    }
   ],
   "source": [
    "# looping to detect features with missing values\n",
    "for col in birthweight:\n",
    "\n",
    "    # creating columns with 1s if missing and 0 if not\n",
    "    if birthweight[col].isnull().astype(int).sum() > 0:\n",
    "        birthweight['m_'+col] = birthweight[col].isnull().astype(int)\n",
    "\n",
    "\n",
    "# summing the missing value flags to check the results of the loop above\n",
    "birthweight[    ['m_meduc', 'm_npvis', 'm_feduc', ]    ].sum(axis = 0)"
   ]
  },
  {
   "cell_type": "code",
   "execution_count": 16,
   "id": "b8c6f065",
   "metadata": {},
   "outputs": [
    {
     "data": {
      "image/png": "[encoded data removed]",
      "text/plain": [
       "<Figure size 432x288 with 1 Axes>"
      ]
     },
     "metadata": {
      "needs_background": "light"
     },
     "output_type": "display_data"
    }
   ],
   "source": [
    "# creating a dropped dataset to visualize 'Mas Vnr Area'\n",
    "df_dropped = birthweight.dropna()\n",
    "\n",
    "\n",
    "# displaying the plot for 'Mas Vnr Area'\n",
    "sns.histplot(x = 'meduc',\n",
    "            data = df_dropped,\n",
    "            kde = True)\n",
    "\n",
    "\n",
    "# title and labels\n",
    "plt.title('Distribution of meduc')\n",
    "\n",
    "\n",
    "# displaying the plot\n",
    "plt.show()"
   ]
  },
  {
   "cell_type": "code",
   "execution_count": 19,
   "id": "cbceae85",
   "metadata": {},
   "outputs": [
    {
     "data": {
      "text/plain": [
       "False"
      ]
     },
     "execution_count": 19,
     "metadata": {},
     "output_type": "execute_result"
    }
   ],
   "source": [
    "# making sure all missing values have been taken care of\n",
    "birthweight.isnull().any().any()"
   ]
  },
  {
   "cell_type": "code",
   "execution_count": 45,
   "id": "b9f8fc28",
   "metadata": {},
   "outputs": [],
   "source": [
    "# applying model in scikit-learn\n",
    "\n",
    "# Preparing a DataFrame based the the analysis above\n",
    "ols_data   = birthweight.loc[ : , x_variables]\n",
    "\n",
    "\n",
    "# Preparing the target variable\n",
    "birthweight_target = birthweight.loc[ : , 'mage']\n",
    "\n",
    "\n",
    "###############################################\n",
    "## setting up more than one train-test split ##\n",
    "###############################################\n",
    "# FULL X-dataset (normal Y)\n",
    "x_train_FULL, x_test_FULL, y_train_FULL, y_test_FULL = train_test_split(\n",
    "            birthweight_data,     # x-variables\n",
    "            birthweight_target,   # y-variable\n",
    "            test_size = 0.25,\n",
    "            random_state = 219)\n",
    "\n",
    "\n",
    "# OLS p-value x-dataset (normal Y)\n",
    "x_train_OLS, x_test_OLS, y_train_OLS, y_test_OLS = train_test_split(\n",
    "            ols_data,         # x-variables\n",
    "            birthweight_target,   # y-variable\n",
    "            test_size = 0.25,\n",
    "            random_state = 219)\n"
   ]
  },
  {
   "cell_type": "code",
   "execution_count": 46,
   "id": "8a7847f0",
   "metadata": {},
   "outputs": [
    {
     "name": "stdout",
     "output_type": "stream",
     "text": [
      "OLS Training Score : 0.4554\n",
      "OLS Testing Score  : 0.2603\n",
      "OLS Train-Test Gap : 0.1951\n"
     ]
    }
   ],
   "source": [
    "# INSTANTIATING a model object\n",
    "lr = LinearRegression()\n",
    "\n",
    "\n",
    "# FITTING to the training data\n",
    "lr_fit = lr.fit(x_train_OLS, y_train_OLS)\n",
    "\n",
    "\n",
    "# PREDICTING on new data\n",
    "lr_pred = lr_fit.predict(x_test_OLS)\n",
    "\n",
    "\n",
    "# SCORING the results\n",
    "print('OLS Training Score :', lr.score(x_train_OLS, y_train_OLS).round(4))\n",
    "print('OLS Testing Score  :', lr.score(x_test_OLS, y_test_OLS).round(4))\n",
    "\n",
    "\n",
    "# saving scoring data for future use\n",
    "lr_train_score = lr.score(x_train_OLS, y_train_OLS).round(4) # using R-square\n",
    "lr_test_score  = lr.score(x_test_OLS, y_test_OLS).round(4)   # using R-square\n",
    "\n",
    "\n",
    "# displaying and saving the gap between training and testing\n",
    "print('OLS Train-Test Gap :', abs(lr_train_score - lr_test_score).round(4))\n",
    "lr_test_gap = abs(lr_train_score - lr_test_score).round(4)"
   ]
  },
  {
   "cell_type": "code",
   "execution_count": 47,
   "id": "b354b910",
   "metadata": {},
   "outputs": [
    {
     "name": "stdout",
     "output_type": "stream",
     "text": [
      "Lasso Training Score : 0.0\n",
      "Lasso Testing Score  : -0.0592\n",
      "Lasso Train-Test Gap : 0.0592\n"
     ]
    }
   ],
   "source": [
    "import sklearn.linear_model # linear models\n",
    "\n",
    "# INSTANTIATING a model object\n",
    "lasso_model = sklearn.linear_model.Lasso(alpha= 5,  \n",
    "                                         normalize = True) # default magitude\n",
    "\n",
    "\n",
    "# FITTING to the training data\n",
    "lasso_fit = lasso_model.fit(x_train_FULL, y_train_FULL)\n",
    "\n",
    "\n",
    "# PREDICTING on new data\n",
    "lasso_pred = lasso_fit.predict(x_test_FULL)\n",
    "\n",
    "\n",
    "# SCORING the results\n",
    "print('Lasso Training Score :', lasso_model.score(x_train_FULL, y_train_FULL).round(4))\n",
    "print('Lasso Testing Score  :', lasso_model.score(x_test_FULL, y_test_FULL).round(4))\n",
    "\n",
    "\n",
    "## the following code has been provided for you ##\n",
    "\n",
    "# saving scoring data for future use\n",
    "lasso_train_score = lasso_model.score(x_train_FULL, y_train_FULL).round(4) # using R-square\n",
    "lasso_test_score  = lasso_model.score(x_test_FULL, y_test_FULL).round(4)   # using R-square\n",
    "\n",
    "\n",
    "# displaying and saving the gap between training and testing\n",
    "print('Lasso Train-Test Gap :', abs(lasso_train_score - lasso_test_score).round(4))\n",
    "lasso_test_gap = abs(lasso_train_score - lasso_test_score).round(4)"
   ]
  },
  {
   "cell_type": "code",
   "execution_count": 48,
   "id": "fa297509",
   "metadata": {},
   "outputs": [
    {
     "name": "stdout",
     "output_type": "stream",
     "text": [
      "Training Score: 0.4187\n",
      "Testing Score : 0.298\n",
      "ARD Train-Test Gap : 0.1207\n"
     ]
    }
   ],
   "source": [
    "# INSTANTIATING a model object\n",
    "ard_model = sklearn.linear_model.ARDRegression(normalize  = False)\n",
    "\n",
    "\n",
    "# FITTING the training data\n",
    "ard_fit = ard_model.fit(x_train_FULL, y_train_FULL)\n",
    "\n",
    "\n",
    "# PREDICTING on new data\n",
    "ard_pred = ard_fit.predict(x_test_FULL)\n",
    "\n",
    "\n",
    "print('Training Score:', ard_model.score(x_train_FULL, y_train_FULL).round(4))\n",
    "print('Testing Score :',  ard_model.score(x_test_FULL, y_test_FULL).round(4))\n",
    "\n",
    "\n",
    "# saving scoring data for future use\n",
    "ard_train_score = ard_model.score(x_train_FULL, y_train_FULL).round(4)\n",
    "ard_test_score  = ard_model.score(x_test_FULL, y_test_FULL).round(4)\n",
    "\n",
    "\n",
    "# displaying and saving the gap between training and testing\n",
    "print('ARD Train-Test Gap :', abs(ard_train_score - ard_test_score).round(4))\n",
    "ard_test_gap = abs(ard_train_score - ard_test_score).round(4)"
   ]
  },
  {
   "cell_type": "code",
   "execution_count": 50,
   "id": "de4fd289",
   "metadata": {},
   "outputs": [
    {
     "name": "stdout",
     "output_type": "stream",
     "text": [
      "KNN Training Score: 1.0\n",
      "KNN Testing Score : 0.2226\n",
      "KNN Train-Test Gap: 0.7774\n"
     ]
    }
   ],
   "source": [
    "# INSTANTIATING a KNN model object\n",
    "knn_reg = KNeighborsRegressor(algorithm = 'auto',\n",
    "                              n_neighbors = 1)\n",
    "\n",
    "\n",
    "# FITTING to the training data\n",
    "knn_fit = knn_reg.fit(x_train, y_train)\n",
    "\n",
    "\n",
    "# PREDICTING on new data\n",
    "knn_reg_pred = knn_fit.predict(x_test)\n",
    "\n",
    "\n",
    "# SCORING the results\n",
    "print('KNN Training Score:', knn_reg.score(x_train, y_train).round(4))\n",
    "print('KNN Testing Score :',  knn_reg.score(x_test, y_test).round(4))\n",
    "\n",
    "\n",
    "# saving scoring data for future use\n",
    "knn_reg_score_train = knn_reg.score(x_train, y_train).round(4)\n",
    "knn_reg_score_test  = knn_reg.score(x_test, y_test).round(4)\n",
    "\n",
    "\n",
    "# displaying and saving the gap between training and testing\n",
    "print('KNN Train-Test Gap:', abs(knn_reg_score_train - knn_reg_score_test).round(4))\n",
    "knn_reg_test_gap = abs(knn_reg_score_train - knn_reg_score_test).round(4)"
   ]
  },
  {
   "cell_type": "code",
   "execution_count": 67,
   "id": "5914221b",
   "metadata": {},
   "outputs": [
    {
     "name": "stdout",
     "output_type": "stream",
     "text": [
      "\n",
      "Model              Train Score      Test Score     Train-Test Gap\n",
      "-----               -----------      ----------     ----------\n",
      "OLS                  0.4554            0.2603       0.1951\n",
      "Lasso                0.0              -0.0592       0.0592\n",
      "ARD                  0.4187            0.298        0.1207\n",
      "KNN                  1.0               0.2226       0.7774\n",
      "Lasso is the choosen model\n",
      "\n"
     ]
    }
   ],
   "source": [
    "#results\n",
    "print(f\"\"\"\n",
    "Model              Train Score      Test Score     Train-Test Gap\n",
    "-----               -----------      ----------     ----------\n",
    "OLS                  {lr_train_score}            {lr_test_score}       {lr_test_gap}\n",
    "Lasso                {lasso_train_score}              {lasso_test_score}       {lasso_test_gap}\n",
    "ARD                  {ard_train_score}            {ard_test_score}        {ard_test_gap}\n",
    "KNN                  {knn_reg_score_train}               {knn_reg_score_test}       {knn_reg_test_gap}\n",
    "Lasso is the choosen model\n",
    "\"\"\")\n"
   ]
  },
  {
   "cell_type": "code",
   "execution_count": null,
   "id": "5c860fff",
   "metadata": {},
   "outputs": [],
   "source": []
  },
  {
   "cell_type": "code",
   "execution_count": null,
   "id": "5c9dad3b",
   "metadata": {},
   "outputs": [],
   "source": []
  },
  {
   "cell_type": "code",
   "execution_count": null,
   "id": "eef32f51",
   "metadata": {},
   "outputs": [],
   "source": []
  }
 ],
 "metadata": {
  "kernelspec": {
   "display_name": "Python 3 (ipykernel)",
   "language": "python",
   "name": "python3"
  },
  "language_info": {
   "codemirror_mode": {
    "name": "ipython",
    "version": 3
   },
   "file_extension": ".py",
   "mimetype": "text/x-python",
   "name": "python",
   "nbconvert_exporter": "python",
   "pygments_lexer": "ipython3",
   "version": "3.8.8"
  },
  "toc": {
   "base_numbering": 1,
   "nav_menu": {},
   "number_sections": true,
   "sideBar": true,
   "skip_h1_title": false,
   "title_cell": "Table of Contents",
   "title_sidebar": "Contents",
   "toc_cell": false,
   "toc_position": {},
   "toc_section_display": true,
   "toc_window_display": false
  },
  "varInspector": {
   "cols": {
    "lenName": 16,
    "lenType": 16,
    "lenVar": 40
   },
   "kernels_config": {
    "python": {
     "delete_cmd_postfix": "",
     "delete_cmd_prefix": "del ",
     "library": "var_list.py",
     "varRefreshCmd": "print(var_dic_list())"
    },
    "r": {
     "delete_cmd_postfix": ") ",
     "delete_cmd_prefix": "rm(",
     "library": "var_list.r",
     "varRefreshCmd": "cat(var_dic_list()) "
    }
   },
   "types_to_exclude": [
    "module",
    "function",
    "builtin_function_or_method",
    "instance",
    "_Feature"
   ],
   "window_display": false
  }
 },
 "nbformat": 4,
 "nbformat_minor": 5
}
